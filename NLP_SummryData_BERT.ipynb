{
  "nbformat": 4,
  "nbformat_minor": 0,
  "metadata": {
    "colab": {
      "provenance": []
    },
    "kernelspec": {
      "name": "python3",
      "display_name": "Python 3"
    },
    "language_info": {
      "name": "python"
    }
  },
  "cells": [
    {
      "cell_type": "code",
      "source": [
        "pip install transformers"
      ],
      "metadata": {
        "colab": {
          "base_uri": "https://localhost:8080/"
        },
        "id": "FNWquHafKRcn",
        "outputId": "43eb85c2-4cb6-40c4-a08e-ab95911cc96a"
      },
      "execution_count": null,
      "outputs": [
        {
          "output_type": "stream",
          "name": "stdout",
          "text": [
            "Looking in indexes: https://pypi.org/simple, https://us-python.pkg.dev/colab-wheels/public/simple/\n",
            "Requirement already satisfied: transformers in /usr/local/lib/python3.10/dist-packages (4.28.1)\n",
            "Requirement already satisfied: regex!=2019.12.17 in /usr/local/lib/python3.10/dist-packages (from transformers) (2022.10.31)\n",
            "Requirement already satisfied: requests in /usr/local/lib/python3.10/dist-packages (from transformers) (2.27.1)\n",
            "Requirement already satisfied: tqdm>=4.27 in /usr/local/lib/python3.10/dist-packages (from transformers) (4.65.0)\n",
            "Requirement already satisfied: numpy>=1.17 in /usr/local/lib/python3.10/dist-packages (from transformers) (1.22.4)\n",
            "Requirement already satisfied: tokenizers!=0.11.3,<0.14,>=0.11.1 in /usr/local/lib/python3.10/dist-packages (from transformers) (0.13.3)\n",
            "Requirement already satisfied: huggingface-hub<1.0,>=0.11.0 in /usr/local/lib/python3.10/dist-packages (from transformers) (0.14.1)\n",
            "Requirement already satisfied: pyyaml>=5.1 in /usr/local/lib/python3.10/dist-packages (from transformers) (6.0)\n",
            "Requirement already satisfied: packaging>=20.0 in /usr/local/lib/python3.10/dist-packages (from transformers) (23.1)\n",
            "Requirement already satisfied: filelock in /usr/local/lib/python3.10/dist-packages (from transformers) (3.12.0)\n",
            "Requirement already satisfied: typing-extensions>=3.7.4.3 in /usr/local/lib/python3.10/dist-packages (from huggingface-hub<1.0,>=0.11.0->transformers) (4.5.0)\n",
            "Requirement already satisfied: fsspec in /usr/local/lib/python3.10/dist-packages (from huggingface-hub<1.0,>=0.11.0->transformers) (2023.4.0)\n",
            "Requirement already satisfied: certifi>=2017.4.17 in /usr/local/lib/python3.10/dist-packages (from requests->transformers) (2022.12.7)\n",
            "Requirement already satisfied: charset-normalizer~=2.0.0 in /usr/local/lib/python3.10/dist-packages (from requests->transformers) (2.0.12)\n",
            "Requirement already satisfied: urllib3<1.27,>=1.21.1 in /usr/local/lib/python3.10/dist-packages (from requests->transformers) (1.26.15)\n",
            "Requirement already satisfied: idna<4,>=2.5 in /usr/local/lib/python3.10/dist-packages (from requests->transformers) (3.4)\n"
          ]
        }
      ]
    },
    {
      "cell_type": "code",
      "source": [
        "#madhav parashar, 500084206\n",
        "import pandas as pd\n",
        "import numpy as np\n",
        "import re\n",
        "import nltk\n",
        "from nltk.tokenize import word_tokenize\n",
        "nltk.download('stopwords')\n",
        "from gensim.models import Word2Vec\n",
        "from nltk.corpus import stopwords\n",
        "from nltk.stem import PorterStemmer\n",
        "from nltk.stem import WordNetLemmatizer\n",
        "from nltk.stem.porter import PorterStemmer\n",
        "from string import punctuation\n",
        "nltk.download('punkt')\n",
        "import torch\n",
        "from transformers import BertTokenizer, BertModel\n",
        "from sklearn.model_selection import train_test_split\n",
        "from sklearn.svm import SVC"
      ],
      "metadata": {
        "colab": {
          "base_uri": "https://localhost:8080/"
        },
        "id": "Z1jTAhimKCaT",
        "outputId": "5e5c6c73-e60b-4d4f-bd5d-7a1d50fee297"
      },
      "execution_count": null,
      "outputs": [
        {
          "output_type": "stream",
          "name": "stderr",
          "text": [
            "[nltk_data] Downloading package stopwords to /root/nltk_data...\n",
            "[nltk_data]   Package stopwords is already up-to-date!\n",
            "[nltk_data] Downloading package punkt to /root/nltk_data...\n",
            "[nltk_data]   Package punkt is already up-to-date!\n"
          ]
        }
      ]
    },
    {
      "cell_type": "code",
      "source": [
        "# Reading the dataset\n",
        "df = pd.read_csv('/content/arxiv_data.csv')"
      ],
      "metadata": {
        "id": "QGaznBPRNMON"
      },
      "execution_count": null,
      "outputs": []
    },
    {
      "cell_type": "code",
      "source": [
        "df = df[:100]"
      ],
      "metadata": {
        "id": "YyNkHEOubYl7"
      },
      "execution_count": null,
      "outputs": []
    },
    {
      "cell_type": "code",
      "source": [
        "df.head()"
      ],
      "metadata": {
        "colab": {
          "base_uri": "https://localhost:8080/",
          "height": 206
        },
        "id": "l97TAGHRT0KJ",
        "outputId": "50a9e9c2-2da8-4562-c1f5-249075750e72"
      },
      "execution_count": null,
      "outputs": [
        {
          "output_type": "execute_result",
          "data": {
            "text/plain": [
              "                                              titles  \\\n",
              "0  Survey on Semantic Stereo Matching / Semantic ...   \n",
              "1  FUTURE-AI: Guiding Principles and Consensus Re...   \n",
              "2  Enforcing Mutual Consistency of Hard Regions f...   \n",
              "3  Parameter Decoupling Strategy for Semi-supervi...   \n",
              "4  Background-Foreground Segmentation for Interio...   \n",
              "\n",
              "                                           summaries  \\\n",
              "0  Stereo matching is one of the widely used tech...   \n",
              "1  The recent advancements in artificial intellig...   \n",
              "2  In this paper, we proposed a novel mutual cons...   \n",
              "3  Consistency training has proven to be an advan...   \n",
              "4  To ensure safety in automated driving, the cor...   \n",
              "\n",
              "                         terms  \n",
              "0           ['cs.CV', 'cs.LG']  \n",
              "1  ['cs.CV', 'cs.AI', 'cs.LG']  \n",
              "2           ['cs.CV', 'cs.AI']  \n",
              "3                    ['cs.CV']  \n",
              "4           ['cs.CV', 'cs.LG']  "
            ],
            "text/html": [
              "\n",
              "  <div id=\"df-d7641f8e-eee6-4018-bf76-3251e1731341\">\n",
              "    <div class=\"colab-df-container\">\n",
              "      <div>\n",
              "<style scoped>\n",
              "    .dataframe tbody tr th:only-of-type {\n",
              "        vertical-align: middle;\n",
              "    }\n",
              "\n",
              "    .dataframe tbody tr th {\n",
              "        vertical-align: top;\n",
              "    }\n",
              "\n",
              "    .dataframe thead th {\n",
              "        text-align: right;\n",
              "    }\n",
              "</style>\n",
              "<table border=\"1\" class=\"dataframe\">\n",
              "  <thead>\n",
              "    <tr style=\"text-align: right;\">\n",
              "      <th></th>\n",
              "      <th>titles</th>\n",
              "      <th>summaries</th>\n",
              "      <th>terms</th>\n",
              "    </tr>\n",
              "  </thead>\n",
              "  <tbody>\n",
              "    <tr>\n",
              "      <th>0</th>\n",
              "      <td>Survey on Semantic Stereo Matching / Semantic ...</td>\n",
              "      <td>Stereo matching is one of the widely used tech...</td>\n",
              "      <td>['cs.CV', 'cs.LG']</td>\n",
              "    </tr>\n",
              "    <tr>\n",
              "      <th>1</th>\n",
              "      <td>FUTURE-AI: Guiding Principles and Consensus Re...</td>\n",
              "      <td>The recent advancements in artificial intellig...</td>\n",
              "      <td>['cs.CV', 'cs.AI', 'cs.LG']</td>\n",
              "    </tr>\n",
              "    <tr>\n",
              "      <th>2</th>\n",
              "      <td>Enforcing Mutual Consistency of Hard Regions f...</td>\n",
              "      <td>In this paper, we proposed a novel mutual cons...</td>\n",
              "      <td>['cs.CV', 'cs.AI']</td>\n",
              "    </tr>\n",
              "    <tr>\n",
              "      <th>3</th>\n",
              "      <td>Parameter Decoupling Strategy for Semi-supervi...</td>\n",
              "      <td>Consistency training has proven to be an advan...</td>\n",
              "      <td>['cs.CV']</td>\n",
              "    </tr>\n",
              "    <tr>\n",
              "      <th>4</th>\n",
              "      <td>Background-Foreground Segmentation for Interio...</td>\n",
              "      <td>To ensure safety in automated driving, the cor...</td>\n",
              "      <td>['cs.CV', 'cs.LG']</td>\n",
              "    </tr>\n",
              "  </tbody>\n",
              "</table>\n",
              "</div>\n",
              "      <button class=\"colab-df-convert\" onclick=\"convertToInteractive('df-d7641f8e-eee6-4018-bf76-3251e1731341')\"\n",
              "              title=\"Convert this dataframe to an interactive table.\"\n",
              "              style=\"display:none;\">\n",
              "        \n",
              "  <svg xmlns=\"http://www.w3.org/2000/svg\" height=\"24px\"viewBox=\"0 0 24 24\"\n",
              "       width=\"24px\">\n",
              "    <path d=\"M0 0h24v24H0V0z\" fill=\"none\"/>\n",
              "    <path d=\"M18.56 5.44l.94 2.06.94-2.06 2.06-.94-2.06-.94-.94-2.06-.94 2.06-2.06.94zm-11 1L8.5 8.5l.94-2.06 2.06-.94-2.06-.94L8.5 2.5l-.94 2.06-2.06.94zm10 10l.94 2.06.94-2.06 2.06-.94-2.06-.94-.94-2.06-.94 2.06-2.06.94z\"/><path d=\"M17.41 7.96l-1.37-1.37c-.4-.4-.92-.59-1.43-.59-.52 0-1.04.2-1.43.59L10.3 9.45l-7.72 7.72c-.78.78-.78 2.05 0 2.83L4 21.41c.39.39.9.59 1.41.59.51 0 1.02-.2 1.41-.59l7.78-7.78 2.81-2.81c.8-.78.8-2.07 0-2.86zM5.41 20L4 18.59l7.72-7.72 1.47 1.35L5.41 20z\"/>\n",
              "  </svg>\n",
              "      </button>\n",
              "      \n",
              "  <style>\n",
              "    .colab-df-container {\n",
              "      display:flex;\n",
              "      flex-wrap:wrap;\n",
              "      gap: 12px;\n",
              "    }\n",
              "\n",
              "    .colab-df-convert {\n",
              "      background-color: #E8F0FE;\n",
              "      border: none;\n",
              "      border-radius: 50%;\n",
              "      cursor: pointer;\n",
              "      display: none;\n",
              "      fill: #1967D2;\n",
              "      height: 32px;\n",
              "      padding: 0 0 0 0;\n",
              "      width: 32px;\n",
              "    }\n",
              "\n",
              "    .colab-df-convert:hover {\n",
              "      background-color: #E2EBFA;\n",
              "      box-shadow: 0px 1px 2px rgba(60, 64, 67, 0.3), 0px 1px 3px 1px rgba(60, 64, 67, 0.15);\n",
              "      fill: #174EA6;\n",
              "    }\n",
              "\n",
              "    [theme=dark] .colab-df-convert {\n",
              "      background-color: #3B4455;\n",
              "      fill: #D2E3FC;\n",
              "    }\n",
              "\n",
              "    [theme=dark] .colab-df-convert:hover {\n",
              "      background-color: #434B5C;\n",
              "      box-shadow: 0px 1px 3px 1px rgba(0, 0, 0, 0.15);\n",
              "      filter: drop-shadow(0px 1px 2px rgba(0, 0, 0, 0.3));\n",
              "      fill: #FFFFFF;\n",
              "    }\n",
              "  </style>\n",
              "\n",
              "      <script>\n",
              "        const buttonEl =\n",
              "          document.querySelector('#df-d7641f8e-eee6-4018-bf76-3251e1731341 button.colab-df-convert');\n",
              "        buttonEl.style.display =\n",
              "          google.colab.kernel.accessAllowed ? 'block' : 'none';\n",
              "\n",
              "        async function convertToInteractive(key) {\n",
              "          const element = document.querySelector('#df-d7641f8e-eee6-4018-bf76-3251e1731341');\n",
              "          const dataTable =\n",
              "            await google.colab.kernel.invokeFunction('convertToInteractive',\n",
              "                                                     [key], {});\n",
              "          if (!dataTable) return;\n",
              "\n",
              "          const docLinkHtml = 'Like what you see? Visit the ' +\n",
              "            '<a target=\"_blank\" href=https://colab.research.google.com/notebooks/data_table.ipynb>data table notebook</a>'\n",
              "            + ' to learn more about interactive tables.';\n",
              "          element.innerHTML = '';\n",
              "          dataTable['output_type'] = 'display_data';\n",
              "          await google.colab.output.renderOutput(dataTable, element);\n",
              "          const docLink = document.createElement('div');\n",
              "          docLink.innerHTML = docLinkHtml;\n",
              "          element.appendChild(docLink);\n",
              "        }\n",
              "      </script>\n",
              "    </div>\n",
              "  </div>\n",
              "  "
            ]
          },
          "metadata": {},
          "execution_count": 5
        }
      ]
    },
    {
      "cell_type": "code",
      "source": [
        "df['text'] = df['titles'] + ' ' + df['summaries']"
      ],
      "metadata": {
        "id": "DL8m97rxctKB"
      },
      "execution_count": null,
      "outputs": []
    },
    {
      "cell_type": "code",
      "source": [
        "df['text'].str.lower()"
      ],
      "metadata": {
        "colab": {
          "base_uri": "https://localhost:8080/"
        },
        "id": "rgVXG-wxcZRS",
        "outputId": "fb14b9b8-d459-4e85-b57c-c116923f60ad"
      },
      "execution_count": null,
      "outputs": [
        {
          "output_type": "execute_result",
          "data": {
            "text/plain": [
              "0     survey on semantic stereo matching / semantic ...\n",
              "1     future-ai: guiding principles and consensus re...\n",
              "2     enforcing mutual consistency of hard regions f...\n",
              "3     parameter decoupling strategy for semi-supervi...\n",
              "4     background-foreground segmentation for interio...\n",
              "                            ...                        \n",
              "95    segmentation with multiple acceptable annotati...\n",
              "96    information-theoretic segmentation by inpainti...\n",
              "97    are conditional gans explicitly conditional? t...\n",
              "98    k-net: towards unified image segmentation sema...\n",
              "99    poisoning the search space in neural architect...\n",
              "Name: text, Length: 100, dtype: object"
            ]
          },
          "metadata": {},
          "execution_count": 7
        }
      ]
    },
    {
      "cell_type": "code",
      "source": [
        "#removing unwanted symbols and text\n",
        "import re\n",
        "def remove_unwanted(text):\n",
        "  tweet=re.sub('@[^\\s]+','',text)\n",
        "  tweet=re.sub('http[^\\s]+','',text)\n",
        "  return text\n",
        "df['text']=df['text'].apply(remove_unwanted)"
      ],
      "metadata": {
        "id": "CC6DaLnRc7rO"
      },
      "execution_count": null,
      "outputs": []
    },
    {
      "cell_type": "code",
      "source": [
        "#tokenization\n",
        "def token(text):\n",
        "  token=re.split('W+',text)\n",
        "  return token\n",
        "\n",
        "df['text_token']=df['text'].apply(lambda x:word_tokenize(x))"
      ],
      "metadata": {
        "id": "FLR1Sdc1dLes"
      },
      "execution_count": null,
      "outputs": []
    },
    {
      "cell_type": "code",
      "source": [
        "#stopword\n",
        "stopwords=nltk.corpus.stopwords.words(\"english\")\n",
        "def remove_stopwords(text):\n",
        "  out=[i for i in text if i not in stopwords]\n",
        "  return out\n",
        "\n",
        "df['text_stopwords']=df['text_token'].apply(lambda x:remove_stopwords(x))"
      ],
      "metadata": {
        "id": "tN6ZDSJ0dtL3"
      },
      "execution_count": null,
      "outputs": []
    },
    {
      "cell_type": "code",
      "source": [
        "#stemming\n",
        "from nltk.stem.porter import PorterStemmer\n",
        "porter_stemmer=PorterStemmer()\n",
        "def stemming(text):\n",
        "  stem_text=[porter_stemmer.stem(word) for word in text]\n",
        "  return stem_text\n",
        "\n",
        "df['stemmed_text']=df['text_stopwords'].apply(lambda x:stemming(x))"
      ],
      "metadata": {
        "id": "5qb-mJtMd8K8"
      },
      "execution_count": null,
      "outputs": []
    },
    {
      "cell_type": "code",
      "source": [
        "nltk.download('wordnet')"
      ],
      "metadata": {
        "colab": {
          "base_uri": "https://localhost:8080/"
        },
        "id": "mwrtTb6legD7",
        "outputId": "1867def5-07b4-43e4-afaa-f26ceec69e14"
      },
      "execution_count": null,
      "outputs": [
        {
          "output_type": "stream",
          "name": "stderr",
          "text": [
            "[nltk_data] Downloading package wordnet to /root/nltk_data...\n",
            "[nltk_data]   Package wordnet is already up-to-date!\n"
          ]
        },
        {
          "output_type": "execute_result",
          "data": {
            "text/plain": [
              "True"
            ]
          },
          "metadata": {},
          "execution_count": 14
        }
      ]
    },
    {
      "cell_type": "code",
      "source": [
        "word_net_leme=WordNetLemmatizer()\n",
        "def lemme(text):\n",
        "  lemme_text=[word_net_leme.lemmatize(word) for word in text]\n",
        "  return lemme_text\n",
        "\n",
        "df['lemmetization']=df['stemmed_text'].apply(lambda x:lemme(x))\n",
        "df"
      ],
      "metadata": {
        "colab": {
          "base_uri": "https://localhost:8080/",
          "height": 797
        },
        "id": "SmY2P33ceCeQ",
        "outputId": "69d1ee4a-048d-48bd-9b60-9c2583f76d8f"
      },
      "execution_count": null,
      "outputs": [
        {
          "output_type": "execute_result",
          "data": {
            "text/plain": [
              "                                               titles  \\\n",
              "0   Survey on Semantic Stereo Matching / Semantic ...   \n",
              "1   FUTURE-AI: Guiding Principles and Consensus Re...   \n",
              "2   Enforcing Mutual Consistency of Hard Regions f...   \n",
              "3   Parameter Decoupling Strategy for Semi-supervi...   \n",
              "4   Background-Foreground Segmentation for Interio...   \n",
              "..                                                ...   \n",
              "95  Segmentation with Multiple Acceptable Annotati...   \n",
              "96  Information-Theoretic Segmentation by Inpainti...   \n",
              "97       Are conditional GANs explicitly conditional?   \n",
              "98          K-Net: Towards Unified Image Segmentation   \n",
              "99  Poisoning the Search Space in Neural Architect...   \n",
              "\n",
              "                                            summaries  \\\n",
              "0   Stereo matching is one of the widely used tech...   \n",
              "1   The recent advancements in artificial intellig...   \n",
              "2   In this paper, we proposed a novel mutual cons...   \n",
              "3   Consistency training has proven to be an advan...   \n",
              "4   To ensure safety in automated driving, the cor...   \n",
              "..                                                ...   \n",
              "95  Most existing deep learning-based frameworks f...   \n",
              "96  We study image segmentation from an informatio...   \n",
              "97  This paper proposes two important contribution...   \n",
              "98  Semantic, instance, and panoptic segmentations...   \n",
              "99  Deep learning has proven to be a highly effect...   \n",
              "\n",
              "                                     terms  \\\n",
              "0                       ['cs.CV', 'cs.LG']   \n",
              "1              ['cs.CV', 'cs.AI', 'cs.LG']   \n",
              "2                       ['cs.CV', 'cs.AI']   \n",
              "3                                ['cs.CV']   \n",
              "4                       ['cs.CV', 'cs.LG']   \n",
              "..                                     ...   \n",
              "95                               ['cs.CV']   \n",
              "96                               ['cs.CV']   \n",
              "97                      ['cs.CV', 'cs.AI']   \n",
              "98                      ['cs.CV', 'cs.AI']   \n",
              "99  ['cs.LG', 'cs.CR', 'cs.NE', 'stat.ML']   \n",
              "\n",
              "                                                 text  \\\n",
              "0   Survey on Semantic Stereo Matching / Semantic ...   \n",
              "1   FUTURE-AI: Guiding Principles and Consensus Re...   \n",
              "2   Enforcing Mutual Consistency of Hard Regions f...   \n",
              "3   Parameter Decoupling Strategy for Semi-supervi...   \n",
              "4   Background-Foreground Segmentation for Interio...   \n",
              "..                                                ...   \n",
              "95  Segmentation with Multiple Acceptable Annotati...   \n",
              "96  Information-Theoretic Segmentation by Inpainti...   \n",
              "97  Are conditional GANs explicitly conditional? T...   \n",
              "98  K-Net: Towards Unified Image Segmentation Sema...   \n",
              "99  Poisoning the Search Space in Neural Architect...   \n",
              "\n",
              "                                           text_token  \\\n",
              "0   [Survey, on, Semantic, Stereo, Matching, /, Se...   \n",
              "1   [FUTURE-AI, :, Guiding, Principles, and, Conse...   \n",
              "2   [Enforcing, Mutual, Consistency, of, Hard, Reg...   \n",
              "3   [Parameter, Decoupling, Strategy, for, Semi-su...   \n",
              "4   [Background-Foreground, Segmentation, for, Int...   \n",
              "..                                                ...   \n",
              "95  [Segmentation, with, Multiple, Acceptable, Ann...   \n",
              "96  [Information-Theoretic, Segmentation, by, Inpa...   \n",
              "97  [Are, conditional, GANs, explicitly, condition...   \n",
              "98  [K-Net, :, Towards, Unified, Image, Segmentati...   \n",
              "99  [Poisoning, the, Search, Space, in, Neural, Ar...   \n",
              "\n",
              "                                       text_stopwords  \\\n",
              "0   [Survey, Semantic, Stereo, Matching, /, Semant...   \n",
              "1   [FUTURE-AI, :, Guiding, Principles, Consensus,...   \n",
              "2   [Enforcing, Mutual, Consistency, Hard, Regions...   \n",
              "3   [Parameter, Decoupling, Strategy, Semi-supervi...   \n",
              "4   [Background-Foreground, Segmentation, Interior...   \n",
              "..                                                ...   \n",
              "95  [Segmentation, Multiple, Acceptable, Annotatio...   \n",
              "96  [Information-Theoretic, Segmentation, Inpainti...   \n",
              "97  [Are, conditional, GANs, explicitly, condition...   \n",
              "98  [K-Net, :, Towards, Unified, Image, Segmentati...   \n",
              "99  [Poisoning, Search, Space, Neural, Architectur...   \n",
              "\n",
              "                                         stemmed_text  \\\n",
              "0   [survey, semant, stereo, match, /, semant, dep...   \n",
              "1   [future-ai, :, guid, principl, consensu, recom...   \n",
              "2   [enforc, mutual, consist, hard, region, semi-s...   \n",
              "3   [paramet, decoupl, strategi, semi-supervis, 3d...   \n",
              "4   [background-foreground, segment, interior, sen...   \n",
              "..                                                ...   \n",
              "95  [segment, multipl, accept, annot, :, a, case, ...   \n",
              "96  [information-theoret, segment, inpaint, error,...   \n",
              "97  [are, condit, gan, explicitli, condit, ?, thi,...   \n",
              "98  [k-net, :, toward, unifi, imag, segment, seman...   \n",
              "99  [poison, search, space, neural, architectur, s...   \n",
              "\n",
              "                                        lemmetization  \n",
              "0   [survey, semant, stereo, match, /, semant, dep...  \n",
              "1   [future-ai, :, guid, principl, consensu, recom...  \n",
              "2   [enforc, mutual, consist, hard, region, semi-s...  \n",
              "3   [paramet, decoupl, strategi, semi-supervis, 3d...  \n",
              "4   [background-foreground, segment, interior, sen...  \n",
              "..                                                ...  \n",
              "95  [segment, multipl, accept, annot, :, a, case, ...  \n",
              "96  [information-theoret, segment, inpaint, error,...  \n",
              "97  [are, condit, gan, explicitli, condit, ?, thi,...  \n",
              "98  [k-net, :, toward, unifi, imag, segment, seman...  \n",
              "99  [poison, search, space, neural, architectur, s...  \n",
              "\n",
              "[100 rows x 8 columns]"
            ],
            "text/html": [
              "\n",
              "  <div id=\"df-ac0fcdd2-45b0-4c7c-bbfc-e9fd96b95221\">\n",
              "    <div class=\"colab-df-container\">\n",
              "      <div>\n",
              "<style scoped>\n",
              "    .dataframe tbody tr th:only-of-type {\n",
              "        vertical-align: middle;\n",
              "    }\n",
              "\n",
              "    .dataframe tbody tr th {\n",
              "        vertical-align: top;\n",
              "    }\n",
              "\n",
              "    .dataframe thead th {\n",
              "        text-align: right;\n",
              "    }\n",
              "</style>\n",
              "<table border=\"1\" class=\"dataframe\">\n",
              "  <thead>\n",
              "    <tr style=\"text-align: right;\">\n",
              "      <th></th>\n",
              "      <th>titles</th>\n",
              "      <th>summaries</th>\n",
              "      <th>terms</th>\n",
              "      <th>text</th>\n",
              "      <th>text_token</th>\n",
              "      <th>text_stopwords</th>\n",
              "      <th>stemmed_text</th>\n",
              "      <th>lemmetization</th>\n",
              "    </tr>\n",
              "  </thead>\n",
              "  <tbody>\n",
              "    <tr>\n",
              "      <th>0</th>\n",
              "      <td>Survey on Semantic Stereo Matching / Semantic ...</td>\n",
              "      <td>Stereo matching is one of the widely used tech...</td>\n",
              "      <td>['cs.CV', 'cs.LG']</td>\n",
              "      <td>Survey on Semantic Stereo Matching / Semantic ...</td>\n",
              "      <td>[Survey, on, Semantic, Stereo, Matching, /, Se...</td>\n",
              "      <td>[Survey, Semantic, Stereo, Matching, /, Semant...</td>\n",
              "      <td>[survey, semant, stereo, match, /, semant, dep...</td>\n",
              "      <td>[survey, semant, stereo, match, /, semant, dep...</td>\n",
              "    </tr>\n",
              "    <tr>\n",
              "      <th>1</th>\n",
              "      <td>FUTURE-AI: Guiding Principles and Consensus Re...</td>\n",
              "      <td>The recent advancements in artificial intellig...</td>\n",
              "      <td>['cs.CV', 'cs.AI', 'cs.LG']</td>\n",
              "      <td>FUTURE-AI: Guiding Principles and Consensus Re...</td>\n",
              "      <td>[FUTURE-AI, :, Guiding, Principles, and, Conse...</td>\n",
              "      <td>[FUTURE-AI, :, Guiding, Principles, Consensus,...</td>\n",
              "      <td>[future-ai, :, guid, principl, consensu, recom...</td>\n",
              "      <td>[future-ai, :, guid, principl, consensu, recom...</td>\n",
              "    </tr>\n",
              "    <tr>\n",
              "      <th>2</th>\n",
              "      <td>Enforcing Mutual Consistency of Hard Regions f...</td>\n",
              "      <td>In this paper, we proposed a novel mutual cons...</td>\n",
              "      <td>['cs.CV', 'cs.AI']</td>\n",
              "      <td>Enforcing Mutual Consistency of Hard Regions f...</td>\n",
              "      <td>[Enforcing, Mutual, Consistency, of, Hard, Reg...</td>\n",
              "      <td>[Enforcing, Mutual, Consistency, Hard, Regions...</td>\n",
              "      <td>[enforc, mutual, consist, hard, region, semi-s...</td>\n",
              "      <td>[enforc, mutual, consist, hard, region, semi-s...</td>\n",
              "    </tr>\n",
              "    <tr>\n",
              "      <th>3</th>\n",
              "      <td>Parameter Decoupling Strategy for Semi-supervi...</td>\n",
              "      <td>Consistency training has proven to be an advan...</td>\n",
              "      <td>['cs.CV']</td>\n",
              "      <td>Parameter Decoupling Strategy for Semi-supervi...</td>\n",
              "      <td>[Parameter, Decoupling, Strategy, for, Semi-su...</td>\n",
              "      <td>[Parameter, Decoupling, Strategy, Semi-supervi...</td>\n",
              "      <td>[paramet, decoupl, strategi, semi-supervis, 3d...</td>\n",
              "      <td>[paramet, decoupl, strategi, semi-supervis, 3d...</td>\n",
              "    </tr>\n",
              "    <tr>\n",
              "      <th>4</th>\n",
              "      <td>Background-Foreground Segmentation for Interio...</td>\n",
              "      <td>To ensure safety in automated driving, the cor...</td>\n",
              "      <td>['cs.CV', 'cs.LG']</td>\n",
              "      <td>Background-Foreground Segmentation for Interio...</td>\n",
              "      <td>[Background-Foreground, Segmentation, for, Int...</td>\n",
              "      <td>[Background-Foreground, Segmentation, Interior...</td>\n",
              "      <td>[background-foreground, segment, interior, sen...</td>\n",
              "      <td>[background-foreground, segment, interior, sen...</td>\n",
              "    </tr>\n",
              "    <tr>\n",
              "      <th>...</th>\n",
              "      <td>...</td>\n",
              "      <td>...</td>\n",
              "      <td>...</td>\n",
              "      <td>...</td>\n",
              "      <td>...</td>\n",
              "      <td>...</td>\n",
              "      <td>...</td>\n",
              "      <td>...</td>\n",
              "    </tr>\n",
              "    <tr>\n",
              "      <th>95</th>\n",
              "      <td>Segmentation with Multiple Acceptable Annotati...</td>\n",
              "      <td>Most existing deep learning-based frameworks f...</td>\n",
              "      <td>['cs.CV']</td>\n",
              "      <td>Segmentation with Multiple Acceptable Annotati...</td>\n",
              "      <td>[Segmentation, with, Multiple, Acceptable, Ann...</td>\n",
              "      <td>[Segmentation, Multiple, Acceptable, Annotatio...</td>\n",
              "      <td>[segment, multipl, accept, annot, :, a, case, ...</td>\n",
              "      <td>[segment, multipl, accept, annot, :, a, case, ...</td>\n",
              "    </tr>\n",
              "    <tr>\n",
              "      <th>96</th>\n",
              "      <td>Information-Theoretic Segmentation by Inpainti...</td>\n",
              "      <td>We study image segmentation from an informatio...</td>\n",
              "      <td>['cs.CV']</td>\n",
              "      <td>Information-Theoretic Segmentation by Inpainti...</td>\n",
              "      <td>[Information-Theoretic, Segmentation, by, Inpa...</td>\n",
              "      <td>[Information-Theoretic, Segmentation, Inpainti...</td>\n",
              "      <td>[information-theoret, segment, inpaint, error,...</td>\n",
              "      <td>[information-theoret, segment, inpaint, error,...</td>\n",
              "    </tr>\n",
              "    <tr>\n",
              "      <th>97</th>\n",
              "      <td>Are conditional GANs explicitly conditional?</td>\n",
              "      <td>This paper proposes two important contribution...</td>\n",
              "      <td>['cs.CV', 'cs.AI']</td>\n",
              "      <td>Are conditional GANs explicitly conditional? T...</td>\n",
              "      <td>[Are, conditional, GANs, explicitly, condition...</td>\n",
              "      <td>[Are, conditional, GANs, explicitly, condition...</td>\n",
              "      <td>[are, condit, gan, explicitli, condit, ?, thi,...</td>\n",
              "      <td>[are, condit, gan, explicitli, condit, ?, thi,...</td>\n",
              "    </tr>\n",
              "    <tr>\n",
              "      <th>98</th>\n",
              "      <td>K-Net: Towards Unified Image Segmentation</td>\n",
              "      <td>Semantic, instance, and panoptic segmentations...</td>\n",
              "      <td>['cs.CV', 'cs.AI']</td>\n",
              "      <td>K-Net: Towards Unified Image Segmentation Sema...</td>\n",
              "      <td>[K-Net, :, Towards, Unified, Image, Segmentati...</td>\n",
              "      <td>[K-Net, :, Towards, Unified, Image, Segmentati...</td>\n",
              "      <td>[k-net, :, toward, unifi, imag, segment, seman...</td>\n",
              "      <td>[k-net, :, toward, unifi, imag, segment, seman...</td>\n",
              "    </tr>\n",
              "    <tr>\n",
              "      <th>99</th>\n",
              "      <td>Poisoning the Search Space in Neural Architect...</td>\n",
              "      <td>Deep learning has proven to be a highly effect...</td>\n",
              "      <td>['cs.LG', 'cs.CR', 'cs.NE', 'stat.ML']</td>\n",
              "      <td>Poisoning the Search Space in Neural Architect...</td>\n",
              "      <td>[Poisoning, the, Search, Space, in, Neural, Ar...</td>\n",
              "      <td>[Poisoning, Search, Space, Neural, Architectur...</td>\n",
              "      <td>[poison, search, space, neural, architectur, s...</td>\n",
              "      <td>[poison, search, space, neural, architectur, s...</td>\n",
              "    </tr>\n",
              "  </tbody>\n",
              "</table>\n",
              "<p>100 rows × 8 columns</p>\n",
              "</div>\n",
              "      <button class=\"colab-df-convert\" onclick=\"convertToInteractive('df-ac0fcdd2-45b0-4c7c-bbfc-e9fd96b95221')\"\n",
              "              title=\"Convert this dataframe to an interactive table.\"\n",
              "              style=\"display:none;\">\n",
              "        \n",
              "  <svg xmlns=\"http://www.w3.org/2000/svg\" height=\"24px\"viewBox=\"0 0 24 24\"\n",
              "       width=\"24px\">\n",
              "    <path d=\"M0 0h24v24H0V0z\" fill=\"none\"/>\n",
              "    <path d=\"M18.56 5.44l.94 2.06.94-2.06 2.06-.94-2.06-.94-.94-2.06-.94 2.06-2.06.94zm-11 1L8.5 8.5l.94-2.06 2.06-.94-2.06-.94L8.5 2.5l-.94 2.06-2.06.94zm10 10l.94 2.06.94-2.06 2.06-.94-2.06-.94-.94-2.06-.94 2.06-2.06.94z\"/><path d=\"M17.41 7.96l-1.37-1.37c-.4-.4-.92-.59-1.43-.59-.52 0-1.04.2-1.43.59L10.3 9.45l-7.72 7.72c-.78.78-.78 2.05 0 2.83L4 21.41c.39.39.9.59 1.41.59.51 0 1.02-.2 1.41-.59l7.78-7.78 2.81-2.81c.8-.78.8-2.07 0-2.86zM5.41 20L4 18.59l7.72-7.72 1.47 1.35L5.41 20z\"/>\n",
              "  </svg>\n",
              "      </button>\n",
              "      \n",
              "  <style>\n",
              "    .colab-df-container {\n",
              "      display:flex;\n",
              "      flex-wrap:wrap;\n",
              "      gap: 12px;\n",
              "    }\n",
              "\n",
              "    .colab-df-convert {\n",
              "      background-color: #E8F0FE;\n",
              "      border: none;\n",
              "      border-radius: 50%;\n",
              "      cursor: pointer;\n",
              "      display: none;\n",
              "      fill: #1967D2;\n",
              "      height: 32px;\n",
              "      padding: 0 0 0 0;\n",
              "      width: 32px;\n",
              "    }\n",
              "\n",
              "    .colab-df-convert:hover {\n",
              "      background-color: #E2EBFA;\n",
              "      box-shadow: 0px 1px 2px rgba(60, 64, 67, 0.3), 0px 1px 3px 1px rgba(60, 64, 67, 0.15);\n",
              "      fill: #174EA6;\n",
              "    }\n",
              "\n",
              "    [theme=dark] .colab-df-convert {\n",
              "      background-color: #3B4455;\n",
              "      fill: #D2E3FC;\n",
              "    }\n",
              "\n",
              "    [theme=dark] .colab-df-convert:hover {\n",
              "      background-color: #434B5C;\n",
              "      box-shadow: 0px 1px 3px 1px rgba(0, 0, 0, 0.15);\n",
              "      filter: drop-shadow(0px 1px 2px rgba(0, 0, 0, 0.3));\n",
              "      fill: #FFFFFF;\n",
              "    }\n",
              "  </style>\n",
              "\n",
              "      <script>\n",
              "        const buttonEl =\n",
              "          document.querySelector('#df-ac0fcdd2-45b0-4c7c-bbfc-e9fd96b95221 button.colab-df-convert');\n",
              "        buttonEl.style.display =\n",
              "          google.colab.kernel.accessAllowed ? 'block' : 'none';\n",
              "\n",
              "        async function convertToInteractive(key) {\n",
              "          const element = document.querySelector('#df-ac0fcdd2-45b0-4c7c-bbfc-e9fd96b95221');\n",
              "          const dataTable =\n",
              "            await google.colab.kernel.invokeFunction('convertToInteractive',\n",
              "                                                     [key], {});\n",
              "          if (!dataTable) return;\n",
              "\n",
              "          const docLinkHtml = 'Like what you see? Visit the ' +\n",
              "            '<a target=\"_blank\" href=https://colab.research.google.com/notebooks/data_table.ipynb>data table notebook</a>'\n",
              "            + ' to learn more about interactive tables.';\n",
              "          element.innerHTML = '';\n",
              "          dataTable['output_type'] = 'display_data';\n",
              "          await google.colab.output.renderOutput(dataTable, element);\n",
              "          const docLink = document.createElement('div');\n",
              "          docLink.innerHTML = docLinkHtml;\n",
              "          element.appendChild(docLink);\n",
              "        }\n",
              "      </script>\n",
              "    </div>\n",
              "  </div>\n",
              "  "
            ]
          },
          "metadata": {},
          "execution_count": 15
        }
      ]
    },
    {
      "cell_type": "code",
      "source": [
        "# Word2Vec Embeddings\n",
        "w2v_model = Word2Vec(df['text'].apply(lambda x: x.split()), window=5, min_count=1)"
      ],
      "metadata": {
        "id": "GYQXirWXTwSY"
      },
      "execution_count": null,
      "outputs": []
    },
    {
      "cell_type": "code",
      "source": [
        "w2v = dict(zip(w2v_model.wv.index_to_key, w2v_model.wv.vectors))"
      ],
      "metadata": {
        "id": "jquZqrP7UE_E"
      },
      "execution_count": null,
      "outputs": []
    },
    {
      "cell_type": "code",
      "source": [
        "# BERT Embeddings\n",
        "tokenizer = BertTokenizer.from_pretrained('bert-base-uncased')\n",
        "bert_model = BertModel.from_pretrained('bert-base-uncased', output_hidden_states = True)\n",
        "bert_model.eval()"
      ],
      "metadata": {
        "colab": {
          "base_uri": "https://localhost:8080/"
        },
        "id": "wZ5FEntHVcw1",
        "outputId": "83698d74-cc8e-4d6a-d90e-35a091b7eac0"
      },
      "execution_count": null,
      "outputs": [
        {
          "output_type": "stream",
          "name": "stderr",
          "text": [
            "Some weights of the model checkpoint at bert-base-uncased were not used when initializing BertModel: ['cls.predictions.transform.LayerNorm.bias', 'cls.predictions.transform.dense.weight', 'cls.seq_relationship.weight', 'cls.predictions.bias', 'cls.seq_relationship.bias', 'cls.predictions.transform.dense.bias', 'cls.predictions.decoder.weight', 'cls.predictions.transform.LayerNorm.weight']\n",
            "- This IS expected if you are initializing BertModel from the checkpoint of a model trained on another task or with another architecture (e.g. initializing a BertForSequenceClassification model from a BertForPreTraining model).\n",
            "- This IS NOT expected if you are initializing BertModel from the checkpoint of a model that you expect to be exactly identical (initializing a BertForSequenceClassification model from a BertForSequenceClassification model).\n"
          ]
        },
        {
          "output_type": "execute_result",
          "data": {
            "text/plain": [
              "BertModel(\n",
              "  (embeddings): BertEmbeddings(\n",
              "    (word_embeddings): Embedding(30522, 768, padding_idx=0)\n",
              "    (position_embeddings): Embedding(512, 768)\n",
              "    (token_type_embeddings): Embedding(2, 768)\n",
              "    (LayerNorm): LayerNorm((768,), eps=1e-12, elementwise_affine=True)\n",
              "    (dropout): Dropout(p=0.1, inplace=False)\n",
              "  )\n",
              "  (encoder): BertEncoder(\n",
              "    (layer): ModuleList(\n",
              "      (0-11): 12 x BertLayer(\n",
              "        (attention): BertAttention(\n",
              "          (self): BertSelfAttention(\n",
              "            (query): Linear(in_features=768, out_features=768, bias=True)\n",
              "            (key): Linear(in_features=768, out_features=768, bias=True)\n",
              "            (value): Linear(in_features=768, out_features=768, bias=True)\n",
              "            (dropout): Dropout(p=0.1, inplace=False)\n",
              "          )\n",
              "          (output): BertSelfOutput(\n",
              "            (dense): Linear(in_features=768, out_features=768, bias=True)\n",
              "            (LayerNorm): LayerNorm((768,), eps=1e-12, elementwise_affine=True)\n",
              "            (dropout): Dropout(p=0.1, inplace=False)\n",
              "          )\n",
              "        )\n",
              "        (intermediate): BertIntermediate(\n",
              "          (dense): Linear(in_features=768, out_features=3072, bias=True)\n",
              "          (intermediate_act_fn): GELUActivation()\n",
              "        )\n",
              "        (output): BertOutput(\n",
              "          (dense): Linear(in_features=3072, out_features=768, bias=True)\n",
              "          (LayerNorm): LayerNorm((768,), eps=1e-12, elementwise_affine=True)\n",
              "          (dropout): Dropout(p=0.1, inplace=False)\n",
              "        )\n",
              "      )\n",
              "    )\n",
              "  )\n",
              "  (pooler): BertPooler(\n",
              "    (dense): Linear(in_features=768, out_features=768, bias=True)\n",
              "    (activation): Tanh()\n",
              "  )\n",
              ")"
            ]
          },
          "metadata": {},
          "execution_count": 18
        }
      ]
    },
    {
      "cell_type": "code",
      "source": [
        "def get_bert_embeddings(text):\n",
        "    tokenized = tokenizer(text, padding=True, truncation=True, return_tensors='pt')\n",
        "    with torch.no_grad():\n",
        "        outputs = bert_model(**tokenized)\n",
        "        hidden_states = outputs[2]\n",
        "        token_vecs = hidden_states[-2][0]\n",
        "        sentence_embedding = torch.mean(token_vecs, dim=0)\n",
        "        return sentence_embedding.numpy()"
      ],
      "metadata": {
        "id": "4dCd6WjCV3Tc"
      },
      "execution_count": null,
      "outputs": []
    },
    {
      "cell_type": "code",
      "source": [
        "df['bert_embeddings'] = df['text'].apply(lambda x: get_bert_embeddings(x))"
      ],
      "metadata": {
        "id": "nS_6WJbZbuzB"
      },
      "execution_count": null,
      "outputs": []
    },
    {
      "cell_type": "code",
      "source": [
        "# Model Building\n",
        "X = np.array(df['bert_embeddings'].tolist())\n",
        "y = np.array(df['terms'].apply(lambda x: x.split()[0]).tolist())\n",
        "X_train, X_test, y_train, y_test = train_test_split(X, y, test_size=0.2, random_state=42)\n",
        "clf = SVC(kernel='linear')\n",
        "clf.fit(X_train, y_train)"
      ],
      "metadata": {
        "colab": {
          "base_uri": "https://localhost:8080/",
          "height": 74
        },
        "id": "WRrp1Ra3bxkj",
        "outputId": "5f33cc48-6902-45da-da49-34b81dc91f20"
      },
      "execution_count": null,
      "outputs": [
        {
          "output_type": "execute_result",
          "data": {
            "text/plain": [
              "SVC(kernel='linear')"
            ],
            "text/html": [
              "<style>#sk-container-id-1 {color: black;background-color: white;}#sk-container-id-1 pre{padding: 0;}#sk-container-id-1 div.sk-toggleable {background-color: white;}#sk-container-id-1 label.sk-toggleable__label {cursor: pointer;display: block;width: 100%;margin-bottom: 0;padding: 0.3em;box-sizing: border-box;text-align: center;}#sk-container-id-1 label.sk-toggleable__label-arrow:before {content: \"▸\";float: left;margin-right: 0.25em;color: #696969;}#sk-container-id-1 label.sk-toggleable__label-arrow:hover:before {color: black;}#sk-container-id-1 div.sk-estimator:hover label.sk-toggleable__label-arrow:before {color: black;}#sk-container-id-1 div.sk-toggleable__content {max-height: 0;max-width: 0;overflow: hidden;text-align: left;background-color: #f0f8ff;}#sk-container-id-1 div.sk-toggleable__content pre {margin: 0.2em;color: black;border-radius: 0.25em;background-color: #f0f8ff;}#sk-container-id-1 input.sk-toggleable__control:checked~div.sk-toggleable__content {max-height: 200px;max-width: 100%;overflow: auto;}#sk-container-id-1 input.sk-toggleable__control:checked~label.sk-toggleable__label-arrow:before {content: \"▾\";}#sk-container-id-1 div.sk-estimator input.sk-toggleable__control:checked~label.sk-toggleable__label {background-color: #d4ebff;}#sk-container-id-1 div.sk-label input.sk-toggleable__control:checked~label.sk-toggleable__label {background-color: #d4ebff;}#sk-container-id-1 input.sk-hidden--visually {border: 0;clip: rect(1px 1px 1px 1px);clip: rect(1px, 1px, 1px, 1px);height: 1px;margin: -1px;overflow: hidden;padding: 0;position: absolute;width: 1px;}#sk-container-id-1 div.sk-estimator {font-family: monospace;background-color: #f0f8ff;border: 1px dotted black;border-radius: 0.25em;box-sizing: border-box;margin-bottom: 0.5em;}#sk-container-id-1 div.sk-estimator:hover {background-color: #d4ebff;}#sk-container-id-1 div.sk-parallel-item::after {content: \"\";width: 100%;border-bottom: 1px solid gray;flex-grow: 1;}#sk-container-id-1 div.sk-label:hover label.sk-toggleable__label {background-color: #d4ebff;}#sk-container-id-1 div.sk-serial::before {content: \"\";position: absolute;border-left: 1px solid gray;box-sizing: border-box;top: 0;bottom: 0;left: 50%;z-index: 0;}#sk-container-id-1 div.sk-serial {display: flex;flex-direction: column;align-items: center;background-color: white;padding-right: 0.2em;padding-left: 0.2em;position: relative;}#sk-container-id-1 div.sk-item {position: relative;z-index: 1;}#sk-container-id-1 div.sk-parallel {display: flex;align-items: stretch;justify-content: center;background-color: white;position: relative;}#sk-container-id-1 div.sk-item::before, #sk-container-id-1 div.sk-parallel-item::before {content: \"\";position: absolute;border-left: 1px solid gray;box-sizing: border-box;top: 0;bottom: 0;left: 50%;z-index: -1;}#sk-container-id-1 div.sk-parallel-item {display: flex;flex-direction: column;z-index: 1;position: relative;background-color: white;}#sk-container-id-1 div.sk-parallel-item:first-child::after {align-self: flex-end;width: 50%;}#sk-container-id-1 div.sk-parallel-item:last-child::after {align-self: flex-start;width: 50%;}#sk-container-id-1 div.sk-parallel-item:only-child::after {width: 0;}#sk-container-id-1 div.sk-dashed-wrapped {border: 1px dashed gray;margin: 0 0.4em 0.5em 0.4em;box-sizing: border-box;padding-bottom: 0.4em;background-color: white;}#sk-container-id-1 div.sk-label label {font-family: monospace;font-weight: bold;display: inline-block;line-height: 1.2em;}#sk-container-id-1 div.sk-label-container {text-align: center;}#sk-container-id-1 div.sk-container {/* jupyter's `normalize.less` sets `[hidden] { display: none; }` but bootstrap.min.css set `[hidden] { display: none !important; }` so we also need the `!important` here to be able to override the default hidden behavior on the sphinx rendered scikit-learn.org. See: https://github.com/scikit-learn/scikit-learn/issues/21755 */display: inline-block !important;position: relative;}#sk-container-id-1 div.sk-text-repr-fallback {display: none;}</style><div id=\"sk-container-id-1\" class=\"sk-top-container\"><div class=\"sk-text-repr-fallback\"><pre>SVC(kernel=&#x27;linear&#x27;)</pre><b>In a Jupyter environment, please rerun this cell to show the HTML representation or trust the notebook. <br />On GitHub, the HTML representation is unable to render, please try loading this page with nbviewer.org.</b></div><div class=\"sk-container\" hidden><div class=\"sk-item\"><div class=\"sk-estimator sk-toggleable\"><input class=\"sk-toggleable__control sk-hidden--visually\" id=\"sk-estimator-id-1\" type=\"checkbox\" checked><label for=\"sk-estimator-id-1\" class=\"sk-toggleable__label sk-toggleable__label-arrow\">SVC</label><div class=\"sk-toggleable__content\"><pre>SVC(kernel=&#x27;linear&#x27;)</pre></div></div></div></div></div>"
            ]
          },
          "metadata": {},
          "execution_count": 21
        }
      ]
    },
    {
      "cell_type": "code",
      "source": [
        "y_pred = clf.predict(X_test)"
      ],
      "metadata": {
        "id": "F8lBRFwrcHaP"
      },
      "execution_count": null,
      "outputs": []
    },
    {
      "cell_type": "code",
      "source": [
        "print(y_pred)"
      ],
      "metadata": {
        "colab": {
          "base_uri": "https://localhost:8080/"
        },
        "id": "GFmuG-i3v1L1",
        "outputId": "5181918b-8844-4983-8edc-c568ef1107d4"
      },
      "execution_count": null,
      "outputs": [
        {
          "output_type": "stream",
          "name": "stdout",
          "text": [
            "[\"['cs.CV']\" \"['cs.CV']\" \"['cs.CV',\" \"['cs.CV']\" \"['cs.CV']\" \"['cs.CV']\"\n",
            " \"['cs.CV',\" \"['cs.CV']\" \"['cs.CV']\" \"['cs.CV']\" \"['cs.CV']\" \"['cs.CV']\"\n",
            " \"['cs.CV',\" \"['cs.CV',\" \"['cs.CV',\" \"['cs.CV',\" \"['cs.CV']\" \"['cs.CV']\"\n",
            " \"['cs.CV',\" \"['cs.CV']\"]\n"
          ]
        }
      ]
    }
  ]
}